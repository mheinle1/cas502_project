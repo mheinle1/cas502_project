{
 "cells": [
  {
   "cell_type": "code",
   "execution_count": 3,
   "id": "a0d55b4f-3974-4b93-acb9-bc230ef0d1f2",
   "metadata": {},
   "outputs": [],
   "source": [
    "import folium\n",
    "import ast\n",
    "import numpy as np\n",
    "import pandas as pd\n",
    "import matplotlib.pyplot as plt\n",
    "import geopandas as gpd\n",
    "from pathlib import Path\n",
    "from shapely.wkt import loads\n",
    "from shapely.geometry import Point, Polygon\n",
    "from shapely.geometry import mapping\n",
    "from fastkml import kml"
   ]
  },
  {
   "cell_type": "code",
   "execution_count": null,
   "id": "4391ef81-eba9-474d-8702-3dcb80a833ea",
   "metadata": {},
   "outputs": [],
   "source": [
    "#use this block if data has only GEO_IDs as reference, joins census .csv to county polygon .csv for geo-references\n",
    "def join_csv_files(file1, file2, key1='GEO_ID' , key2='GEOIDFQ', output_file= 'joined.csv'):\n",
    "    df1 = pd.read_csv(file1)\n",
    "    df2 = pd.read_csv(file2)\n",
    "    merged_df = df1.merge(df2, left_on=key1, right_on=key2, how='inner')\n",
    "    # Save to a new CSV file\n",
    "    merged_df.to_csv(output_file, index=False)\n",
    "    \n",
    "#the below join should be replaced with the filepath to your tl_2024_us_county data file download, see github wiki\n", 	
    "join_csv_files(file1, r\"C:\\Users\\zachh\\Downloads\\tl_2024_us_county\\tl_2024_us_county.csv\", key1='GEO_ID', key2='GEOIDFQ', output_file= joined.csv)\n",
    "print(f\"Join complete! Merged file saved as {output_file}\")"
   ]
  },
  {
   "cell_type": "code",
   "execution_count": 4,
   "id": "9af1e32e-7148-4a17-a3d1-73080f34103f",
   "metadata": {},
   "outputs": [],
   "source": [
    "def convert_to_kml(input_file, output_file='output.kml'):\n",
    "    gdf = None\n",
    "    \n",
    "    # Determine file format and read data accordingly\n",
    "    if input_file.endswith('.csv'):\n",
    "        df = pd.read_csv(input_file)\n",
    "        if 'geometry' not in df.columns:\n",
    "            raise ValueError(\"CSV file must contain a 'geometry' column with WKT format.\")\n",
    "        df['geometry'] = df['geometry'].apply(loads)  # Convert WKT to geometry\n",
    "        gdf = gpd.GeoDataFrame(df, geometry='geometry')\n",
    "    elif input_file.endswith(('.shp', '.geojson')):\n",
    "        gdf = gpd.read_file(input_file)\n",
    "    else:\n",
    "        raise ValueError(\"Unsupported file format. Please provide a .csv, .shp, or .geojson file.\")\n",
    "    \n",
    "    # Ensure gdf is a GeoDataFrame\n",
    "    if not isinstance(gdf, gpd.GeoDataFrame):\n",
    "        raise TypeError(\"Failed to create a valid GeoDataFrame from the input file.\")\n",
    "    \n",
    "    # Create a KML document\n",
    "    k = kml.KML()\n",
    "    k.append(doc)\n",
    "    \n",
    "    for _, row in gdf.iterrows():\n",
    "        if row.geometry is None:\n",
    "            continue\n",
    "        placemark = kml.Placemark()\n",
    "        placemark.geometry = mapping(row.geometry)  # Handles points, lines, and polygons\n",
    "        placemark.name = str(row.get('name', 'Unnamed'))  # Use 'name' column if available\n",
    "        doc.append(placemark)\n",
    "    \n",
    "    # Write to KML file\n",
    "    with open(output_file, 'w', encoding='utf-8') as f:\n",
    "        f.write(k.to_string(prettyprint=True))\n",
    "    \n",
    "    print(f\"Conversion complete! KML saved as {output_file}\")"
   ]
  },
  {
   "cell_type": "code",
   "execution_count": null,
   "id": "52541a02-1374-4af4-b02c-077e11ac9d2d",
   "metadata": {},
   "outputs": [],
   "source": [
    "def generate_html(kml_file, output_html='index.html'):\n",
    "    html_content = f'''<!DOCTYPE html>\n",
    "<html lang=\"en\">\n",
    "<head>\n",
    "    <meta charset=\"UTF-8\">\n",
    "    <meta name=\"viewport\" content=\"width=device-width, initial-scale=1.0\">\n",
    "    <title>Leaflet KML Map</title>\n",
    "    <link rel=\"stylesheet\" href=\"https://unpkg.com/leaflet/dist/leaflet.css\" />\n",
    "    <script src=\"https://unpkg.com/leaflet/dist/leaflet.js\"></script>\n",
    "    <script src=\"https://cdnjs.cloudflare.com/ajax/libs/leaflet-omnivore/0.3.4/leaflet-omnivore.min.js\"></script>\n",
    "    <style>\n",
    "        #map {{ height: 600px; }}\n",
    "    </style>\n",
    "</head>\n",
    "<body>\n",
    "    <div id=\"map\"></div>\n",
    "    <script>\n",
    "        var map = L.map('map').setView([37.7749, -122.4194], 10);\n",
    "        L.tileLayer('https://tile.openstreetmap.org/{{zoom}}/{{x}}/{{y}}.png', {{\n",
    "            attribution: '&copy; OpenStreetMap contributors'\n",
    "        }}).addTo(map);\n",
    "        var kmlLayer = omnivore.kml('{{kml_file}}').on('ready', function() {{\n",
    "            map.fitBounds(kmlLayer.getBounds());\n",
    "        }}).addTo(map);\n",
    "    </script>\n",
    "</body>\n",
    "</html>'''\n",
    "    with open(output_html, 'w', encoding='utf-8') as f:\n",
    "        f.write(html_content)\n",
    "    print(f\"HTML file generated: {output_html}\")"
   ]
  }
 ],
 "metadata": {
  "kernelspec": {
   "display_name": "Python 3 (ipykernel)",
   "language": "python",
   "name": "python3"
  },
  "language_info": {
   "codemirror_mode": {
    "name": "ipython",
    "version": 3
   },
   "file_extension": ".py",
   "mimetype": "text/x-python",
   "name": "python",
   "nbconvert_exporter": "python",
   "pygments_lexer": "ipython3",
   "version": "3.12.3"
  }
 },
 "nbformat": 4,
 "nbformat_minor": 5
}
